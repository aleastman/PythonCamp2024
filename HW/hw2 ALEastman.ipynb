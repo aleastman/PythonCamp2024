{
 "cells": [
  {
   "cell_type": "code",
   "execution_count": null,
   "id": "dbc8bb37-0220-4248-868b-90bef143373d",
   "metadata": {},
   "outputs": [],
   "source": [
    "#set up \n",
    "from bs4 import BeautifulSoup\n",
    "import urllib\n",
    "import csv\n",
    "import time\n",
    "from bs4 import BeautifulSoup\n",
    "import urllib\n",
    "import csv\n",
    "import time\n",
    "import os\n",
    "from selenium import webdriver\n",
    "from selenium.webdriver.chrome.options import Options\n",
    "from bs4 import BeautifulSoup as bs\n",
    "from selenium.webdriver.common.keys import Keys\n",
    "from selenium.webdriver.chrome.service import Service"
   ]
  },
  {
   "cell_type": "code",
   "execution_count": null,
   "id": "047f3293-57e9-4080-bfd0-d856fea8dcd2",
   "metadata": {},
   "outputs": [],
   "source": [
    "os.getcwd()"
   ]
  },
  {
   "cell_type": "code",
   "execution_count": null,
   "id": "9df5f1fa-11e6-46e6-ae79-2b4cc3ce2e36",
   "metadata": {},
   "outputs": [],
   "source": [
    "os.chdir()"
   ]
  },
  {
   "cell_type": "code",
   "execution_count": null,
   "id": "03421790-b0bf-4529-bfdc-71c74c201a93",
   "metadata": {},
   "outputs": [],
   "source": [
    "#Create a csv file with the following information for each spoken address given by President Biden since he became president on 2021-01-20:\n",
    "#Date of spoken address\n",
    "#Title\n",
    "#Full text of address or remarks\n",
    "#Citation/footnote (if one exists)\n",
    "\n",
    "with open('hw2ALEastman.csv', 'w') as f: # open new csv file\n",
    "    w = csv.DictWriter(f, fieldnames = (\"date\", \"title\", \"text\", \"cite\")) # set colnames\n",
    "    w.writeheader() # write header\n",
    "\n",
    "\t# set up selenium \n",
    "    driver_path = Service('/Users/almavelazquez/Documents/GitHub/PythonCamp2024/Day04/Lecture/chromedriver')\n",
    "\n",
    "\t# open webpage\n",
    "    driver = webdriver.Chrome(service = driver_path)\n",
    "    driver.get('https://www.presidency.ucsb.edu/documents/app-categories/presidential/spoken-addresses-and-remarks') # go to website\n",
    "    driver.execute_script(\"window.scrollTo(0, document.body.scrollHeight);\") # scroll to bottom\n",
    "    time.sleep(5) # pause to let selenium catch up and actually scroll\n",
    "    html = driver.page_source # get html\n",
    "    driver.close() # close selenium browser\n",
    "    soup = BeautifulSoup(html) # soup html\n",
    "\n",
    "    cards = soup.find_all('a', {'class' : 'card'}) # get all faculty\n",
    "\n",
    "    for c in range(len(cards)+1): # for each faculty card\n",
    "        print(\"Working on \" + str(c) + \" of \" + str(len(cards)) + \":\")\n",
    "        try:\n",
    "            fac = {} # empty dict\n",
    "            fac['name'] = ' '.join(cards[c].find('h3').text.split('\\xa0')) # get name, split on weird encoding and re-join\n",
    "            fac['title'] = cards[c].find('div', {'class' : 'dept'}).text # get title\n",
    "\n",
    "            interior = 'https://polisci.wustl.edu' + cards[c]['href'] # go to interior page\n",
    "            interior_page = urllib.request.urlopen(interior) # open interior\n",
    "            interior_soup = BeautifulSoup(interior_page.read()) # soup interior\n",
    "\n",
    "            fac['email'] = interior_soup.find('ul', {'class' : 'detail contact'}).find('a').text # get email\n",
    "            fac['website'] = interior_soup.find('ul', {'class' : 'links'}).find('a')['href'] # get personal website\n",
    "            fac['specialization'] = interior_soup.find('div', {'class' : 'post-excerpt'}).text # get specialization\n",
    "            w.writerow(fac) # write row\n",
    "        except:\n",
    "            continue # skip row on issue (e.g., Lee Epstien) # NOT the best way to deal with this. \n",
    "\n",
    "        time.sleep(3) # polite sleep\n",
    "\n",
    "print(\"All done!\")"
   ]
  }
 ],
 "metadata": {
  "kernelspec": {
   "display_name": "Python 3 (ipykernel)",
   "language": "python",
   "name": "python3"
  },
  "language_info": {
   "codemirror_mode": {
    "name": "ipython",
    "version": 3
   },
   "file_extension": ".py",
   "mimetype": "text/x-python",
   "name": "python",
   "nbconvert_exporter": "python",
   "pygments_lexer": "ipython3",
   "version": "3.12.5"
  }
 },
 "nbformat": 4,
 "nbformat_minor": 5
}
