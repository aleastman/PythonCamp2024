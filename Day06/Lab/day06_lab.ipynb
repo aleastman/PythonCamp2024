{
 "cells": [
  {
   "cell_type": "markdown",
   "metadata": {},
   "source": [
    "# Lab: Regular Expressions and Naive Bayes Classification"
   ]
  },
  {
   "cell_type": "markdown",
   "metadata": {},
   "source": [
    "1. Change to your working directory. Open text file of 2008 NH primary Obama speech"
   ]
  },
  {
   "cell_type": "code",
   "execution_count": 3,
   "metadata": {},
   "outputs": [],
   "source": [
    "import re\n",
    "import os\n",
    "\n",
    "#change directory\n",
    "os.chdir(r'C:\\Users\\aleas\\Downloads\\PythonCamp2024\\Day06\\Lab')\n",
    "\n",
    "#get text\n",
    "with open(\"obama-nh.txt\", \"r\") as f:\n",
    "  text = f.readlines()\n",
    "\n",
    "#check\n",
    "print(text[0])"
   ]
  },
  {
   "cell_type": "markdown",
   "metadata": {},
   "source": [
    "2. Print lines that do NOT contain 'the' using what we learned today. \n",
    "\n",
    "(Although you might think you could do something like `[l for l in obama if \"the\" not in l]`)"
   ]
  },
  {
   "cell_type": "code",
   "execution_count": 26,
   "metadata": {},
   "outputs": [],
   "source": [
    "alltext = ''.join(text)\n",
    "\n",
    "nothe = []\n",
    "for l in obama:\n",
    "    if len("
   ]
  },
  {
   "cell_type": "markdown",
   "metadata": {},
   "source": [
    "3. Print lines that contain a word of any length starting with `s` and ending with `e`"
   ]
  },
  {
   "cell_type": "code",
   "execution_count": null,
   "metadata": {},
   "outputs": [],
   "source": [
    "se = re.complier "
   ]
  },
  {
   "cell_type": "markdown",
   "metadata": {},
   "source": [
    "4. Naive Bayes Classification\n",
    "- Analyze the names that were wrongly predicted by our Naive Bayes classifier. \n",
    "- Identify at least one more features to extract. \n",
    "- Train the classifier again with your new feature extraction function. \n",
    "- Check whether the accuracy improved.  "
   ]
  },
  {
   "cell_type": "code",
   "execution_count": 23,
   "metadata": {},
   "outputs": [
    {
     "name": "stderr",
     "output_type": "stream",
     "text": [
      "[nltk_data] Downloading package names to\n",
      "[nltk_data]     C:\\Users\\aleas\\AppData\\Roaming\\nltk_data...\n",
      "[nltk_data]   Package names is already up-to-date!\n"
     ]
    }
   ],
   "source": [
    "import nltk\n",
    "nltk.download('names')\n",
    "from nltk.corpus import names\n",
    "import random\n",
    "\n",
    "names = ([(name, 'male') for name in names.words('male.txt')] +\n",
    "        [(name, 'female') for name in names.words('female.txt')])\n",
    "\n",
    "random.shuffle(names)\n",
    "\n",
    "train_size = 5000\n",
    "\n",
    "train_names = names[:train_size]\n",
    "test_names = names[train_size:]"
   ]
  },
  {
   "cell_type": "code",
   "execution_count": 24,
   "metadata": {},
   "outputs": [],
   "source": [
    "# YOUR CODE HERE (Pre-requisite code need to be executed.)\n",
    "def g_features3(name):\n",
    "  features = {}\n",
    "  features[\"firstletter\"] = name[0].lower()\n",
    "  features[\"lastletter\"] = name[-1].lower()\n",
    "  for ending in \"ie\" :\n",
    "    features[\"has(%s)\" % ending] = (ending in name[-2].lower())\n",
    "  for letter in 'abcdefghijklmnopqrstuvwxyz':\n",
    "    features[\"count(%s)\" % letter] = name.lower().count(letter)\n",
    "    features[\"has(%s)\" % letter] = (letter in name.lower())\n",
    "    return features\n",
    "\n",
    "train_set = [(g_features3(n), g) for (n,g) in train_names]\n",
    "test_set = [(g_features3(n), g) for (n,g) in test_names]\n",
    "\n",
    "classifier_new = nltk.NaiveBayesClassifier.train(train_set)"
   ]
  },
  {
   "cell_type": "code",
   "execution_count": 25,
   "metadata": {},
   "outputs": [
    {
     "name": "stdout",
     "output_type": "stream",
     "text": [
      "0.7595108695652174\n"
     ]
    }
   ],
   "source": [
    "print(nltk.classify.accuracy(classifier_new, test_set))"
   ]
  }
 ],
 "metadata": {
  "kernelspec": {
   "display_name": "Python 3 (ipykernel)",
   "language": "python",
   "name": "python3"
  },
  "language_info": {
   "codemirror_mode": {
    "name": "ipython",
    "version": 3
   },
   "file_extension": ".py",
   "mimetype": "text/x-python",
   "name": "python",
   "nbconvert_exporter": "python",
   "pygments_lexer": "ipython3",
   "version": "3.12.5"
  }
 },
 "nbformat": 4,
 "nbformat_minor": 4
}
