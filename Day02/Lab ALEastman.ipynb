{
 "cells": [
  {
   "cell_type": "code",
   "execution_count": 1,
   "id": "40d5b72a-218d-4360-b30d-13c892efce77",
   "metadata": {},
   "outputs": [
    {
     "ename": "IndentationError",
     "evalue": "expected an indented block after function definition on line 7 (4171157581.py, line 12)",
     "output_type": "error",
     "traceback": [
      "\u001b[1;36m  Cell \u001b[1;32mIn[1], line 12\u001b[1;36m\u001b[0m\n\u001b[1;33m    def __add__(self,minutes):\u001b[0m\n\u001b[1;37m    ^\u001b[0m\n\u001b[1;31mIndentationError\u001b[0m\u001b[1;31m:\u001b[0m expected an indented block after function definition on line 7\n"
     ]
    }
   ],
   "source": [
    "class Clock:\n",
    "    def __init__(self, hour, minutes):\n",
    "        self.minutes = minutes\n",
    "        self.hour = hour\n",
    "\n",
    "    ## Print the time\n",
    "    def __str__(self):\n",
    "        print f\"({self.hour}:{self.minutes})\"\n",
    "    \n",
    "    ## Add time\n",
    "    ## Don't return anything\n",
    "    def __add__(self,minutes):\n",
    "        print(self.hour, self.minutes + minutes)\n",
    "    \n",
    "    ## Subtract time\n",
    "    ## Don't return anything\n",
    "    def __sub__(self,minutes):\n",
    "        print(self.hour, self.minutes - minutes)\n",
    "    \n",
    "    ## Are two times equal?\n",
    "    def __eq__(self, other):\n",
    "       if self.hour == other.hour and self.minute == self.minute:\n",
    "           return True\n",
    "        else: \n",
    "            return False\n",
    "\n",
    "    ## Are two times not equal?\n",
    "    def __ne__(self, other):\n",
    "       if self.hour != other.hour and self.minute != self.minute:\n",
    "           return True\n",
    "        else: \n",
    "            return False"
   ]
  },
  {
   "cell_type": "code",
   "execution_count": null,
   "id": "55cb5ce7-4b59-48b0-99b0-b4113defdae8",
   "metadata": {},
   "outputs": [],
   "source": [
    "# You should be able to run these\n",
    "clock1 = Clock(23, 5)\n",
    "print(clock1) # 23:05\n",
    "clock2 = Clock(12, 45)\n",
    "print(clock2) # 12:45\n",
    "clock3 = Clock(12, 45)\n",
    "print(clock3) # 12:45"
   ]
  },
  {
   "cell_type": "code",
   "execution_count": null,
   "id": "e115c8b3-e366-443c-9f71-27c78233f82b",
   "metadata": {},
   "outputs": [],
   "source": [
    "print(clock1 == clock2) ## False\n",
    "print(clock1 != clock2) ## True\n",
    "print(clock2 == clock3) ## True"
   ]
  },
  {
   "cell_type": "code",
   "execution_count": null,
   "id": "de3b4650-1e4b-4295-b52c-328fe7e00ec4",
   "metadata": {},
   "outputs": [],
   "source": [
    "print(\"testing addition\")\n",
    "clock1 + 60\n",
    "print(clock1) # 00:05\n",
    "print(clock1 == Clock(0, 5)) # True"
   ]
  },
  {
   "cell_type": "code",
   "execution_count": null,
   "id": "b9a0ecf4-3e46-44e4-a764-6fc77395de3c",
   "metadata": {},
   "outputs": [],
   "source": [
    "print(\"testing subtraction\")\n",
    "clock1 - 100\n",
    "print(clock1) # 22:25"
   ]
  }
 ],
 "metadata": {
  "kernelspec": {
   "display_name": "Python 3 (ipykernel)",
   "language": "python",
   "name": "python3"
  },
  "language_info": {
   "codemirror_mode": {
    "name": "ipython",
    "version": 3
   },
   "file_extension": ".py",
   "mimetype": "text/x-python",
   "name": "python",
   "nbconvert_exporter": "python",
   "pygments_lexer": "ipython3",
   "version": "3.12.5"
  }
 },
 "nbformat": 4,
 "nbformat_minor": 5
}
