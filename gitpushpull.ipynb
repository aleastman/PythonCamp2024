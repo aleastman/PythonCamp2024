{
 "cells": [
  {
   "cell_type": "code",
   "execution_count": 3,
   "id": "7dff00a2-8ee1-43ef-ba0e-a2c9fba4a737",
   "metadata": {},
   "outputs": [],
   "source": [
    "! cd \"C:\\Users\\aleas\\Downloads\\PythonCamp2024\""
   ]
  },
  {
   "cell_type": "code",
   "execution_count": 4,
   "id": "5362e149-1acc-4d07-bb41-a0c87f7f0b9e",
   "metadata": {},
   "outputs": [
    {
     "name": "stdout",
     "output_type": "stream",
     "text": [
      "On branch main\n",
      "Your branch is up to date with 'origin/main'.\n",
      "\n",
      "Changes not staged for commit:\n",
      "  (use \"git add <file>...\" to update what will be committed)\n",
      "  (use \"git restore <file>...\" to discard changes in working directory)\n",
      "\tmodified:   Day06/Lab/day06_lab.ipynb\n",
      "\tmodified:   Day06/Lecture/day06_lecture.ipynb\n",
      "\n",
      "Untracked files:\n",
      "  (use \"git add <file>...\" to include in what will be committed)\n",
      "\t.ipynb_checkpoints/\n",
      "\tDay06/Lab/.ipynb_checkpoints/\n",
      "\tUntitled.ipynb\n",
      "\tposter/\n",
      "\n",
      "no changes added to commit (use \"git add\" and/or \"git commit -a\")\n"
     ]
    },
    {
     "name": "stderr",
     "output_type": "stream",
     "text": [
      "warning: in the working copy of 'Day06/Lab/day06_lab.ipynb', LF will be replaced by CRLF the next time Git touches it\n",
      "warning: in the working copy of 'Day06/Lecture/day06_lecture.ipynb', LF will be replaced by CRLF the next time Git touches it\n",
      "warning: in the working copy of '.ipynb_checkpoints/Untitled-checkpoint.ipynb', LF will be replaced by CRLF the next time Git touches it\n",
      "warning: in the working copy of 'Untitled.ipynb', LF will be replaced by CRLF the next time Git touches it\n",
      "warning: in the working copy of 'poster/.ipynb_checkpoints/Scraping-checkpoint.ipynb', LF will be replaced by CRLF the next time Git touches it\n",
      "warning: in the working copy of 'poster/Scraping.ipynb', LF will be replaced by CRLF the next time Git touches it\n",
      "warning: in the working copy of 'poster/extracted_data.csv', LF will be replaced by CRLF the next time Git touches it\n",
      "git: 'commmit' is not a git command. See 'git --help'.\n",
      "\n",
      "The most similar command is\n",
      "\tcommit\n",
      "Everything up-to-date\n"
     ]
    }
   ],
   "source": [
    "! git status\n",
    "! git add --all\n",
    "! git commmit -m \"message\"\n",
    "! git push\n"
   ]
  },
  {
   "cell_type": "code",
   "execution_count": null,
   "id": "4fdad80a-6a9a-41c7-9d65-d6948011f23f",
   "metadata": {},
   "outputs": [],
   "source": [
    "! git push"
   ]
  },
  {
   "cell_type": "code",
   "execution_count": null,
   "id": "1623c9fc-886d-4602-8638-db2d75d90213",
   "metadata": {},
   "outputs": [],
   "source": [
    "git remote -v\n",
    "git fetch upstream\n",
    "git checkout main\n",
    "git merge upstream/main"
   ]
  }
 ],
 "metadata": {
  "kernelspec": {
   "display_name": "Python 3 (ipykernel)",
   "language": "python",
   "name": "python3"
  },
  "language_info": {
   "codemirror_mode": {
    "name": "ipython",
    "version": 3
   },
   "file_extension": ".py",
   "mimetype": "text/x-python",
   "name": "python",
   "nbconvert_exporter": "python",
   "pygments_lexer": "ipython3",
   "version": "3.12.5"
  }
 },
 "nbformat": 4,
 "nbformat_minor": 5
}
