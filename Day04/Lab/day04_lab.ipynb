{
 "cells": [
  {
   "cell_type": "markdown",
   "metadata": {},
   "source": [
    "#### Day 4: Web Scraping + File I/O\n",
    "\n",
    "Instructions: \n",
    "\n",
    "1. Go to https://polisci.wustl.edu/people/88/all OR https://polisci.wustl.edu/people/list/88/all\n",
    "2. Go to the page for each of the professors.\n",
    "3. Create a `.csv`` file with the following information for each professor:\n",
    "\t- Name\n",
    "\t- Title\n",
    "\t- E-mail\n",
    "\t- Web page\n",
    "\t- Specialization  \n",
    "\t\t- If they do not have a specialization, you can leave it blank. \n",
    "\t\t- An example from Deniz's page: https://polisci.wustl.edu/people/deniz-aksoy\n",
    "\t\t- Professor Aksoy’s research is motivated by an interest in comparative political institutions and political violence. "
   ]
  },
  {
   "cell_type": "code",
   "execution_count": 2,
   "metadata": {},
   "outputs": [],
   "source": [
    "from bs4 import BeautifulSoup\n",
    "import urllib\n",
    "import csv\n",
    "import time"
   ]
  },
  {
   "cell_type": "code",
   "execution_count": 9,
   "metadata": {},
   "outputs": [
    {
     "ename": "SyntaxError",
     "evalue": "invalid syntax (1887355689.py, line 17)",
     "output_type": "error",
     "traceback": [
      "\u001b[1;36m  Cell \u001b[1;32mIn[9], line 17\u001b[1;36m\u001b[0m\n\u001b[1;33m    for i:\u001b[0m\n\u001b[1;37m         ^\u001b[0m\n\u001b[1;31mSyntaxError\u001b[0m\u001b[1;31m:\u001b[0m invalid syntax\n"
     ]
    }
   ],
   "source": [
    "url = \"https://polisci.wustl.edu/people/list/88/all\"\n",
    "web_page = urllib.request.urlopen(url)\n",
    "# Parse the HTML\n",
    "soup = BeautifulSoup(web_page.read()) #, \"html.parser\") # html.parser severs as a basis for parsing text files in HTML format\n",
    "# Get all urls\n",
    "mps = soup.find('table').find_all('a', href = True)\n",
    "mps\n",
    "\n",
    "# create objects to store info\n",
    "name = []\n",
    "title = []\n",
    "email = []\n",
    "webpage = []\n",
    "specialization = []\n",
    "\n",
    "# now lets do this\n",
    "import csv\n",
    "\n",
    "for i:\n",
    "  print(i)\n",
    "  driver = webdriver.Chrome(service = driver_path)\n",
    "  driver.get(page[i])\n",
    "  html = driver.page_source\n",
    "  driver.close()\n",
    "  soup = BeautifulSoup(html)\n",
    "  name.append(soup.find(class_ = 'card').find('h3').text)\n",
    "  soup = soup.find(class_ = 'card').find('a', href = True)\n",
    "  title.append(soup.find(class_ = 'title').find_all('li')[1].text)\n",
    "  email.append(soup.find(class_ = 'detail contact').find('a', href = True)['href'].split(\":\")[1])\n",
    "  webpage.append(soup.find(class_ = 'links').find('a', href = True)['href'].split(\":\")[1])\n",
    "  specialization.append(soup.find(class_ = 'interests').find_all('li')[1].text)\n",
    "time.sleep(5)"
   ]
  },
  {
   "cell_type": "code",
   "execution_count": null,
   "metadata": {},
   "outputs": [],
   "source": []
  }
 ],
 "metadata": {
  "kernelspec": {
   "display_name": "Python 3 (ipykernel)",
   "language": "python",
   "name": "python3"
  },
  "language_info": {
   "codemirror_mode": {
    "name": "ipython",
    "version": 3
   },
   "file_extension": ".py",
   "mimetype": "text/x-python",
   "name": "python",
   "nbconvert_exporter": "python",
   "pygments_lexer": "ipython3",
   "version": "3.12.5"
  }
 },
 "nbformat": 4,
 "nbformat_minor": 4
}
